{
 "cells": [
  {
   "cell_type": "markdown",
   "metadata": {},
   "source": [
    "# Introduction to NumPy\n",
    "\n",
    "\n",
    "#### 1. Import NumPy under the name np."
   ]
  },
  {
   "cell_type": "code",
   "execution_count": 11,
   "metadata": {},
   "outputs": [],
   "source": [
    "import numpy as np"
   ]
  },
  {
   "cell_type": "markdown",
   "metadata": {},
   "source": [
    "#### 2. Print your NumPy version."
   ]
  },
  {
   "cell_type": "code",
   "execution_count": 12,
   "metadata": {},
   "outputs": [
    {
     "name": "stdout",
     "output_type": "stream",
     "text": [
      "1.19.2\n"
     ]
    }
   ],
   "source": [
    "print(np.__version__)"
   ]
  },
  {
   "cell_type": "markdown",
   "metadata": {},
   "source": [
    "#### 3. Generate a 2x3x5 3-dimensional array with random values. Assign the array to variable *a*.\n",
    "**Challenge**: there are at least three easy ways that use numpy to generate random arrays. How many ways can you find?"
   ]
  },
  {
   "cell_type": "code",
   "execution_count": 13,
   "metadata": {},
   "outputs": [
    {
     "data": {
      "text/plain": [
       "array([[[23, 30, 75, 64, 12],\n",
       "        [80, 31, 26, 12, 34],\n",
       "        [96, 68, 87, 67, 16]],\n",
       "\n",
       "       [[71, 35, 43, 15, 97],\n",
       "        [33, 28, 51,  4,  0],\n",
       "        [81, 56, 77,  4, 97]]])"
      ]
     },
     "execution_count": 13,
     "metadata": {},
     "output_type": "execute_result"
    }
   ],
   "source": [
    "# Method 1\n",
    "a=np.random.randint(low=0, high=100, size=(2,3,5))\n",
    "a"
   ]
  },
  {
   "cell_type": "code",
   "execution_count": 14,
   "metadata": {},
   "outputs": [
    {
     "data": {
      "text/plain": [
       "array([[[0.07810454, 0.49336644, 0.52807273, 0.4686857 , 0.30219068],\n",
       "        [0.6819912 , 0.41909075, 0.89326787, 0.37928588, 0.71433187],\n",
       "        [0.043805  , 0.26001245, 0.50852922, 0.62906234, 0.56445987]],\n",
       "\n",
       "       [[0.66587348, 0.44301826, 0.77721475, 0.94777405, 0.48435542],\n",
       "        [0.21309093, 0.88923904, 0.26517672, 0.51943771, 0.00691245],\n",
       "        [0.13616963, 0.15913127, 0.45762789, 0.03586301, 0.58317922]]])"
      ]
     },
     "execution_count": 14,
     "metadata": {},
     "output_type": "execute_result"
    }
   ],
   "source": [
    "# Method 2\n",
    "a = np.random.random((2,3,5))\n",
    "a\n"
   ]
  },
  {
   "cell_type": "code",
   "execution_count": 15,
   "metadata": {},
   "outputs": [
    {
     "data": {
      "text/plain": [
       "array([[[0.7613611 , 0.01520981, 0.30482162, 0.78697458, 0.42117747],\n",
       "        [0.39963297, 0.79693741, 0.13473048, 0.56763622, 0.18935611],\n",
       "        [0.15926857, 0.62997733, 0.99772113, 0.51735687, 0.72573368]],\n",
       "\n",
       "       [[0.97883557, 0.28570213, 0.49813636, 0.74919441, 0.00274378],\n",
       "        [0.77950975, 0.09974782, 0.52282152, 0.97688647, 0.87072726],\n",
       "        [0.26222956, 0.10454977, 0.01068817, 0.72281022, 0.71591476]]])"
      ]
     },
     "execution_count": 15,
     "metadata": {},
     "output_type": "execute_result"
    }
   ],
   "source": [
    "# Method 3\n",
    "a = np.random.random_sample((2,3,5))\n",
    "a"
   ]
  },
  {
   "cell_type": "markdown",
   "metadata": {},
   "source": [
    "#### 4. Print *a*.\n"
   ]
  },
  {
   "cell_type": "code",
   "execution_count": 16,
   "metadata": {},
   "outputs": [
    {
     "data": {
      "text/plain": [
       "array([[[0.7613611 , 0.01520981, 0.30482162, 0.78697458, 0.42117747],\n",
       "        [0.39963297, 0.79693741, 0.13473048, 0.56763622, 0.18935611],\n",
       "        [0.15926857, 0.62997733, 0.99772113, 0.51735687, 0.72573368]],\n",
       "\n",
       "       [[0.97883557, 0.28570213, 0.49813636, 0.74919441, 0.00274378],\n",
       "        [0.77950975, 0.09974782, 0.52282152, 0.97688647, 0.87072726],\n",
       "        [0.26222956, 0.10454977, 0.01068817, 0.72281022, 0.71591476]]])"
      ]
     },
     "execution_count": 16,
     "metadata": {},
     "output_type": "execute_result"
    }
   ],
   "source": [
    "a"
   ]
  },
  {
   "cell_type": "markdown",
   "metadata": {},
   "source": [
    "#### 5. Create a 5x2x3 3-dimensional array with all values equaling 1. Assign the array to variable *b*."
   ]
  },
  {
   "cell_type": "code",
   "execution_count": 17,
   "metadata": {},
   "outputs": [],
   "source": [
    "# your code here\n",
    "b=np.ones((5,2,3))"
   ]
  },
  {
   "cell_type": "markdown",
   "metadata": {},
   "source": [
    "#### 6. Print *b*.\n"
   ]
  },
  {
   "cell_type": "code",
   "execution_count": 18,
   "metadata": {},
   "outputs": [
    {
     "data": {
      "text/plain": [
       "array([[[1., 1., 1.],\n",
       "        [1., 1., 1.]],\n",
       "\n",
       "       [[1., 1., 1.],\n",
       "        [1., 1., 1.]],\n",
       "\n",
       "       [[1., 1., 1.],\n",
       "        [1., 1., 1.]],\n",
       "\n",
       "       [[1., 1., 1.],\n",
       "        [1., 1., 1.]],\n",
       "\n",
       "       [[1., 1., 1.],\n",
       "        [1., 1., 1.]]])"
      ]
     },
     "execution_count": 18,
     "metadata": {},
     "output_type": "execute_result"
    }
   ],
   "source": [
    "# your code here\n",
    "b"
   ]
  },
  {
   "cell_type": "markdown",
   "metadata": {},
   "source": [
    "#### 7. Do *a* and *b* have the same size? How do you prove that in Python code?"
   ]
  },
  {
   "cell_type": "code",
   "execution_count": 19,
   "metadata": {},
   "outputs": [
    {
     "name": "stdout",
     "output_type": "stream",
     "text": [
      "30\n",
      "30\n"
     ]
    }
   ],
   "source": [
    "print(np.size(a))\n",
    "print(np.size(b))\n",
    "\n",
    "# your code here"
   ]
  },
  {
   "cell_type": "markdown",
   "metadata": {},
   "source": [
    "#### 8. Are you able to add *a* and *b*? Why or why not?\n"
   ]
  },
  {
   "cell_type": "code",
   "execution_count": 20,
   "metadata": {},
   "outputs": [
    {
     "ename": "ValueError",
     "evalue": "operands could not be broadcast together with shapes (2,3,5) (5,2,3) ",
     "output_type": "error",
     "traceback": [
      "\u001b[0;31m---------------------------------------------------------------------------\u001b[0m",
      "\u001b[0;31mValueError\u001b[0m                                Traceback (most recent call last)",
      "\u001b[0;32m<ipython-input-20-456daf7f3614>\u001b[0m in \u001b[0;36m<module>\u001b[0;34m\u001b[0m\n\u001b[1;32m      1\u001b[0m \u001b[0;31m# your answer here\u001b[0m\u001b[0;34m\u001b[0m\u001b[0;34m\u001b[0m\u001b[0;34m\u001b[0m\u001b[0m\n\u001b[0;32m----> 2\u001b[0;31m \u001b[0mnp\u001b[0m\u001b[0;34m.\u001b[0m\u001b[0madd\u001b[0m\u001b[0;34m(\u001b[0m\u001b[0ma\u001b[0m\u001b[0;34m,\u001b[0m\u001b[0mb\u001b[0m\u001b[0;34m)\u001b[0m\u001b[0;34m\u001b[0m\u001b[0;34m\u001b[0m\u001b[0m\n\u001b[0m\u001b[1;32m      3\u001b[0m \u001b[0;31m# No es posible, a tiene distinta forma que b\u001b[0m\u001b[0;34m\u001b[0m\u001b[0;34m\u001b[0m\u001b[0;34m\u001b[0m\u001b[0m\n",
      "\u001b[0;31mValueError\u001b[0m: operands could not be broadcast together with shapes (2,3,5) (5,2,3) "
     ]
    }
   ],
   "source": [
    "# your answer here\n",
    "np.add(a,b)\n",
    "# No es posible, a tiene distinta forma que b"
   ]
  },
  {
   "cell_type": "markdown",
   "metadata": {},
   "source": [
    "#### 9. Transpose *b* so that it has the same structure of *a* (i.e. become a 2x3x5 array). Assign the transposed array to variable *c*."
   ]
  },
  {
   "cell_type": "code",
   "execution_count": 21,
   "metadata": {},
   "outputs": [
    {
     "data": {
      "text/plain": [
       "array([[[1., 1., 1., 1., 1.],\n",
       "        [1., 1., 1., 1., 1.],\n",
       "        [1., 1., 1., 1., 1.]],\n",
       "\n",
       "       [[1., 1., 1., 1., 1.],\n",
       "        [1., 1., 1., 1., 1.],\n",
       "        [1., 1., 1., 1., 1.]]])"
      ]
     },
     "execution_count": 21,
     "metadata": {},
     "output_type": "execute_result"
    }
   ],
   "source": [
    "# your code here\n",
    "c=np.reshape(b, (2, 3, 5))\n",
    "c"
   ]
  },
  {
   "cell_type": "markdown",
   "metadata": {},
   "source": [
    "#### 10. Try to add *a* and *c*. Now it should work. Assign the sum to variable *d*. But why does it work now?"
   ]
  },
  {
   "cell_type": "code",
   "execution_count": 22,
   "metadata": {},
   "outputs": [
    {
     "data": {
      "text/plain": [
       "array([[[1.7613611 , 1.01520981, 1.30482162, 1.78697458, 1.42117747],\n",
       "        [1.39963297, 1.79693741, 1.13473048, 1.56763622, 1.18935611],\n",
       "        [1.15926857, 1.62997733, 1.99772113, 1.51735687, 1.72573368]],\n",
       "\n",
       "       [[1.97883557, 1.28570213, 1.49813636, 1.74919441, 1.00274378],\n",
       "        [1.77950975, 1.09974782, 1.52282152, 1.97688647, 1.87072726],\n",
       "        [1.26222956, 1.10454977, 1.01068817, 1.72281022, 1.71591476]]])"
      ]
     },
     "execution_count": 22,
     "metadata": {},
     "output_type": "execute_result"
    }
   ],
   "source": [
    "d=np.add(a,c)\n",
    "d"
   ]
  },
  {
   "cell_type": "markdown",
   "metadata": {},
   "source": [
    "#### 11. Print *a* and *d*. Notice the difference and relation of the two array in terms of the values? Explain."
   ]
  },
  {
   "cell_type": "code",
   "execution_count": 23,
   "metadata": {},
   "outputs": [
    {
     "name": "stdout",
     "output_type": "stream",
     "text": [
      "[[[0.7613611  0.01520981 0.30482162 0.78697458 0.42117747]\n",
      "  [0.39963297 0.79693741 0.13473048 0.56763622 0.18935611]\n",
      "  [0.15926857 0.62997733 0.99772113 0.51735687 0.72573368]]\n",
      "\n",
      " [[0.97883557 0.28570213 0.49813636 0.74919441 0.00274378]\n",
      "  [0.77950975 0.09974782 0.52282152 0.97688647 0.87072726]\n",
      "  [0.26222956 0.10454977 0.01068817 0.72281022 0.71591476]]]\n",
      "\n",
      "[[[1.7613611  1.01520981 1.30482162 1.78697458 1.42117747]\n",
      "  [1.39963297 1.79693741 1.13473048 1.56763622 1.18935611]\n",
      "  [1.15926857 1.62997733 1.99772113 1.51735687 1.72573368]]\n",
      "\n",
      " [[1.97883557 1.28570213 1.49813636 1.74919441 1.00274378]\n",
      "  [1.77950975 1.09974782 1.52282152 1.97688647 1.87072726]\n",
      "  [1.26222956 1.10454977 1.01068817 1.72281022 1.71591476]]]\n"
     ]
    }
   ],
   "source": [
    "print(a)\n",
    "print()\n",
    "print(d)# your code/answer here\n",
    "\n",
    "# Si han sumado las matrices (a y c)"
   ]
  },
  {
   "cell_type": "markdown",
   "metadata": {},
   "source": [
    "#### 12. Multiply *a* and *c*. Assign the result to *e*."
   ]
  },
  {
   "cell_type": "code",
   "execution_count": 24,
   "metadata": {},
   "outputs": [],
   "source": [
    "# your code here\n",
    "e=np.multiply(a,c)\n"
   ]
  },
  {
   "cell_type": "markdown",
   "metadata": {},
   "source": [
    "#### 13. Does *e* equal to *a*? Why or why not?\n"
   ]
  },
  {
   "cell_type": "code",
   "execution_count": 25,
   "metadata": {},
   "outputs": [
    {
     "name": "stdout",
     "output_type": "stream",
     "text": [
      "[[[0.7613611  0.01520981 0.30482162 0.78697458 0.42117747]\n",
      "  [0.39963297 0.79693741 0.13473048 0.56763622 0.18935611]\n",
      "  [0.15926857 0.62997733 0.99772113 0.51735687 0.72573368]]\n",
      "\n",
      " [[0.97883557 0.28570213 0.49813636 0.74919441 0.00274378]\n",
      "  [0.77950975 0.09974782 0.52282152 0.97688647 0.87072726]\n",
      "  [0.26222956 0.10454977 0.01068817 0.72281022 0.71591476]]]\n",
      "\n",
      "[[[0.7613611  0.01520981 0.30482162 0.78697458 0.42117747]\n",
      "  [0.39963297 0.79693741 0.13473048 0.56763622 0.18935611]\n",
      "  [0.15926857 0.62997733 0.99772113 0.51735687 0.72573368]]\n",
      "\n",
      " [[0.97883557 0.28570213 0.49813636 0.74919441 0.00274378]\n",
      "  [0.77950975 0.09974782 0.52282152 0.97688647 0.87072726]\n",
      "  [0.26222956 0.10454977 0.01068817 0.72281022 0.71591476]]]\n"
     ]
    }
   ],
   "source": [
    "print(e)\n",
    "print()\n",
    "print(a)\n",
    "# \"a\" es igual que \"e\" porque \"c\" son 2 matricies de 1 y por eso da lo mismo."
   ]
  },
  {
   "cell_type": "markdown",
   "metadata": {},
   "source": [
    "#### 14. Identify the max, min, and mean values in *d*. Assign those values to variables *d_max*, *d_min* and *d_mean*."
   ]
  },
  {
   "cell_type": "code",
   "execution_count": 26,
   "metadata": {},
   "outputs": [
    {
     "name": "stdout",
     "output_type": "stream",
     "text": [
      "1.997721132831555\n",
      "1.002743778402655\n",
      "1.499613096558963\n"
     ]
    }
   ],
   "source": [
    "# your code here\n",
    "d_max=np.amax(d)\n",
    "print(d_max)\n",
    "d_min=np.amin(d)\n",
    "print(d_min)\n",
    "d_mean=np.mean(d)\n",
    "print(d_mean)"
   ]
  },
  {
   "cell_type": "markdown",
   "metadata": {},
   "source": [
    "#### 15. Now we want to label the values in *d*. First create an empty array *f* with the same shape (i.e. 2x3x5) as *d* using `np.empty`.\n"
   ]
  },
  {
   "cell_type": "code",
   "execution_count": 47,
   "metadata": {},
   "outputs": [
    {
     "name": "stdout",
     "output_type": "stream",
     "text": [
      "1.0997478247269474\n",
      "[[[1.7613611  1.01520981 1.30482162 1.78697458 1.42117747]\n",
      "  [1.39963297 1.79693741 1.13473048 1.56763622 1.18935611]\n",
      "  [1.15926857 1.62997733 1.99772113 1.51735687 1.72573368]]\n",
      "\n",
      " [[1.97883557 1.28570213 1.49813636 1.74919441 1.00274378]\n",
      "  [1.77950975 1.09974782 1.52282152 1.97688647 1.87072726]\n",
      "  [1.26222956 1.10454977 1.01068817 1.72281022 1.71591476]]]\n",
      "1.997721132831555\n",
      "1.002743778402655\n",
      "1.499613096558963\n"
     ]
    }
   ],
   "source": [
    "# your code here\n",
    "f=np.empty_like(d)*0\n",
    "\n",
    "print(d[1][1][1])\n",
    "print(d)\n",
    "d_max=np.amax(d)\n",
    "print(d_max)\n",
    "d_min=np.amin(d)\n",
    "print(d_min)\n",
    "d_mean=np.mean(d)\n",
    "print(d_mean)"
   ]
  },
  {
   "cell_type": "markdown",
   "metadata": {},
   "source": [
    "#### 16. Populate the values in *f*. \n",
    "\n",
    "For each value in *d*, if it's larger than *d_min* but smaller than *d_mean*, assign 25 to the corresponding value in *f*. If a value in *d* is larger than *d_mean* but smaller than *d_max*, assign 75 to the corresponding value in *f*. If a value equals to *d_mean*, assign 50 to the corresponding value in *f*. Assign 0 to the corresponding value(s) in *f* for *d_min* in *d*. Assign 100 to the corresponding value(s) in *f* for *d_max* in *d*. In the end, f should have only the following values: 0, 25, 50, 75, and 100.\n",
    "\n",
    "**Note**: you don't have to use Numpy in this question."
   ]
  },
  {
   "cell_type": "code",
   "execution_count": 48,
   "metadata": {},
   "outputs": [
    {
     "data": {
      "text/plain": [
       "array([[[ 75.,  25.,  25.,  75.,  25.],\n",
       "        [ 25.,  75.,  25.,  75.,  25.],\n",
       "        [ 25.,  75., 100.,  75.,  75.]],\n",
       "\n",
       "       [[ 75.,  25.,  25.,  75.,   0.],\n",
       "        [ 75.,  25.,  75.,  75.,  75.],\n",
       "        [ 25.,  25.,  25.,  75.,  75.]]])"
      ]
     },
     "execution_count": 48,
     "metadata": {},
     "output_type": "execute_result"
    }
   ],
   "source": [
    "# your code here\n",
    "for i in range(len(d)):\n",
    "    for e in range(len(d[i])):\n",
    "        for a in range(len(d[i][e])):\n",
    "            if d_min == d[i][e][a]:\n",
    "                f[i][e][a]=0\n",
    "            if d_max == d[i][e][a]:\n",
    "                f[i][e][a]=100\n",
    "            if d_mean == d[i][e][a]:\n",
    "                f[i][e][a]=50\n",
    "            if d_min < d[i][e][a] and d[i][e][a] < d_max:\n",
    "                f[i][e][a]=25\n",
    "            if d_mean < d[i][e][a] and d[i][e][a] < d_max:\n",
    "                f[i][e][a]=75\n",
    "f "
   ]
  },
  {
   "cell_type": "markdown",
   "metadata": {},
   "source": [
    "#### 18. Bonus question: instead of using numbers (i.e. 0, 25, 50, 75, and 100), use string values  (\"A\", \"B\", \"C\", \"D\", and \"E\") to label the array elements. For the example above, the expected result is:\n",
    "\n",
    "```python\n",
    "[[[ 'D',  'D',  'D',  'B',  'D'],\n",
    "[ 'D',  'D',  'B',  'B',  'B'],\n",
    "[ 'D',  'B',  'D',  'D',  'D']],\n",
    "[[ 'B',  'B',  'B',  'B',  'E'],\n",
    "[ 'D',  'D',  'D',  'D',  'D'],\n",
    "[ 'B',  'D',   'A',  'D', 'D']]]\n",
    "```\n",
    "**Note**: you don't have to use Numpy in this question."
   ]
  },
  {
   "cell_type": "code",
   "execution_count": 49,
   "metadata": {},
   "outputs": [],
   "source": [
    "f = f.astype('object') # esto permite que se cambie la matriz."
   ]
  },
  {
   "cell_type": "code",
   "execution_count": 50,
   "metadata": {},
   "outputs": [],
   "source": [
    "for i in range(len(f)):\n",
    "    for e in range(len(f[i])):\n",
    "        for a in range(len(f[i][e])):\n",
    "            if 0 == f[i][e][a]:\n",
    "                f[i][e][a]='A'\n",
    "            if 25 == f[i][e][a]:\n",
    "                f[i][e][a]= 'B'\n",
    "            if 50 == f[i][e][a]:\n",
    "                f[i][e][a]='C'\n",
    "            if 75 == f[i][e][a]:\n",
    "                f[i][e][a]='D'\n",
    "            if 100 == f[i][e][a]:\n",
    "                f[i][e][a]='E'"
   ]
  },
  {
   "cell_type": "code",
   "execution_count": 51,
   "metadata": {},
   "outputs": [
    {
     "data": {
      "text/plain": [
       "array([[['D', 'B', 'B', 'D', 'B'],\n",
       "        ['B', 'D', 'B', 'D', 'B'],\n",
       "        ['B', 'D', 'E', 'D', 'D']],\n",
       "\n",
       "       [['D', 'B', 'B', 'D', 'A'],\n",
       "        ['D', 'B', 'D', 'D', 'D'],\n",
       "        ['B', 'B', 'B', 'D', 'D']]], dtype=object)"
      ]
     },
     "execution_count": 51,
     "metadata": {},
     "output_type": "execute_result"
    }
   ],
   "source": [
    "f"
   ]
  }
 ],
 "metadata": {
  "kernelspec": {
   "display_name": "Python 3",
   "language": "python",
   "name": "python3"
  },
  "language_info": {
   "codemirror_mode": {
    "name": "ipython",
    "version": 3
   },
   "file_extension": ".py",
   "mimetype": "text/x-python",
   "name": "python",
   "nbconvert_exporter": "python",
   "pygments_lexer": "ipython3",
   "version": "3.8.5"
  }
 },
 "nbformat": 4,
 "nbformat_minor": 2
}
